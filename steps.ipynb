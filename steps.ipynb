{
 "cells": [
  {
   "cell_type": "markdown",
   "metadata": {},
   "source": [
    "## Passo a serem feitos:\n",
    "\n",
    "1. ~~Coletar dados~~\n",
    "\n",
    "2. Realizar pre processamento dos dados:\n",
    "\n",
    "    ~~2.0 sujar os dados de uma coluna (finalizações)~~\n",
    "\n",
    "    2.1 definição de tipos\n",
    "\n",
    "    2.2 tratamento de dados ausentes\n",
    "\n",
    "    2.3 normalização e discretização\n",
    "\n",
    "    2.4 limpeza de dados (univariado, bivariado, multivariado)\n",
    "\n",
    "3. apresentar estatisticas descritvas dos dados com vizualizações\n",
    "\n",
    "4. realizar teste de hipoteses para comparação de categorias e vizualizar diferenças\n",
    "\n",
    "5. Bonûs:\n",
    "    \n",
    "    ~~5.1 integrar dadados ou extrair da web~~\n",
    "\n",
    "    5.2 utilizar tecnicas nao cobertas na aula\n",
    "\n",
    "\n",
    "duvidas:\n",
    "1- o teste de hipotese está feito correto\n",
    "2- ordem da discretização la em vizualization\n",
    "3- se os passos estão corretos e se falta alguma coisa?\n",
    "4 ordem -  \n",
    "\n",
    "dirty\n",
    "extracting\n",
    "vizualization\n",
    "test_hypotesys\n",
    "normalization\n",
    "imputing\n",
    "\n",
    "discretizaçao ta dividida entre o extraction e vizualization\n",
    "explicar que result é saldo de gols da partida do time da ksa"
   ]
  },
  {
   "cell_type": "markdown",
   "metadata": {},
   "source": []
  }
 ],
 "metadata": {
  "language_info": {
   "name": "python"
  }
 },
 "nbformat": 4,
 "nbformat_minor": 2
}
