{
 "cells": [
  {
   "cell_type": "markdown",
   "metadata": {},
   "source": [
    "## Passo a serem feitos:\n",
    "\n",
    "1. ~~Coletar dados~~\n",
    "\n",
    "2. Realizar pre processamento dos dados:\n",
    "\n",
    "    2.0 sujar os dados de uma coluna (finalizações)\n",
    "\n",
    "    2.1 definição de tipos\n",
    "\n",
    "    2.2 tratamento de dados ausentes\n",
    "\n",
    "    2.3 normalização e discretização\n",
    "\n",
    "    2.4 limpeza de dados (univariado, bivariado, multivariado)\n",
    "\n",
    "3. apresentar estatisticas descritvas dos dados com vizualizações\n",
    "\n",
    "4. realizar teste de hipoteses para comparação de categorias e vizualizar diferenças\n",
    "\n",
    "5. Bonûs:\n",
    "    \n",
    "    ~~5.1 integrar dadados ou extrair da web~~\n",
    "\n",
    "    5.2 utilizar tecnicas nao cobertas na aula"
   ]
  },
  {
   "cell_type": "markdown",
   "metadata": {},
   "source": []
  }
 ],
 "metadata": {
  "language_info": {
   "name": "python"
  }
 },
 "nbformat": 4,
 "nbformat_minor": 2
}
